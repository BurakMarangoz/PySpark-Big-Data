{
 "cells": [
  {
   "cell_type": "code",
   "execution_count": 1,
   "metadata": {
    "colab": {
     "base_uri": "https://localhost:8080/"
    },
    "id": "qpnEXKqAE0d-",
    "outputId": "2d0050d4-cc0f-4469-a8bd-49e6632df17b"
   },
   "outputs": [
    {
     "name": "stdout",
     "output_type": "stream",
     "text": [
      "Looking in indexes: https://pypi.org/simple, https://us-python.pkg.dev/colab-wheels/public/simple/\n",
      "Requirement already satisfied: pyspark in /usr/local/lib/python3.9/dist-packages (3.4.0)\n",
      "Requirement already satisfied: py4j==0.10.9.7 in /usr/local/lib/python3.9/dist-packages (from pyspark) (0.10.9.7)\n"
     ]
    }
   ],
   "source": [
    "!pip install pyspark"
   ]
  },
  {
   "cell_type": "code",
   "execution_count": 2,
   "metadata": {
    "colab": {
     "base_uri": "https://localhost:8080/",
     "height": 219
    },
    "id": "Gy8Q_eMEE9q5",
    "outputId": "7776f73d-6c92-4ced-b974-78f30afa168f"
   },
   "outputs": [
    {
     "data": {
      "text/html": [
       "\n",
       "            <div>\n",
       "                <p><b>SparkSession - in-memory</b></p>\n",
       "                \n",
       "        <div>\n",
       "            <p><b>SparkContext</b></p>\n",
       "\n",
       "            <p><a href=\"http://cc3cbdb2f727:4040\">Spark UI</a></p>\n",
       "\n",
       "            <dl>\n",
       "              <dt>Version</dt>\n",
       "                <dd><code>v3.4.0</code></dd>\n",
       "              <dt>Master</dt>\n",
       "                <dd><code>local[*]</code></dd>\n",
       "              <dt>AppName</dt>\n",
       "                <dd><code>pyspark-shell</code></dd>\n",
       "            </dl>\n",
       "        </div>\n",
       "        \n",
       "            </div>\n",
       "        "
      ],
      "text/plain": [
       "<pyspark.sql.session.SparkSession at 0x7f77eb77e3d0>"
      ]
     },
     "execution_count": 2,
     "metadata": {},
     "output_type": "execute_result"
    }
   ],
   "source": [
    "from pyspark.sql import SparkSession\n",
    "spark = SparkSession.builder.master(\"local[*]\").getOrCreate()\n",
    "spark"
   ]
  },
  {
   "cell_type": "code",
   "execution_count": 3,
   "metadata": {
    "id": "4zl-P721E_tY"
   },
   "outputs": [],
   "source": [
    "from pyspark import SparkContext\n",
    "sc = spark.sparkContext"
   ]
  },
  {
   "cell_type": "code",
   "execution_count": 4,
   "metadata": {
    "id": "jzmzM3xpFDqu"
   },
   "outputs": [],
   "source": [
    "raw_data = sc.textFile(\"Lottery.txt\")"
   ]
  },
  {
   "cell_type": "code",
   "execution_count": 5,
   "metadata": {
    "colab": {
     "base_uri": "https://localhost:8080/",
     "height": 87
    },
    "id": "GnLokGHtjhHd",
    "outputId": "ae97f2d8-b5fb-493e-b27f-a76a792234b0"
   },
   "outputs": [
    {
     "data": {
      "application/vnd.google.colaboratory.intrinsic+json": {
       "type": "string"
      },
      "text/plain": [
       "'\": \"5 - 7 - 36 - 39 - 47 - 48\", \"devretti\": true, \"buyukIkrKazananIlIlceler\": [], \"hafta\": 501, \"buyukIkramiyeKazananIl\": \"\"}, \"success\": true}{\"data\": {\"bilenKisiler\": [{\"kisiBasinaDusenIkramiye\": 1341977.1, \"tur\": \"$6_BILEN\", \"oid\": \"sl_2006-06-24_6\", \"kisiSayisi\": 2}, {\"kisiBasinaDusenIkramiye\": 1429.85, \"tur\": \"$5_BILEN\", \"oid\": \"sl_2006-06-24_5\", \"kisiSayisi\": 590}, {\"kisiBasinaDusenIkramiye\": 13.55, \"tur\": \"$4_BILEN\", \"oid\": \"sl_2006-06-24_4\", \"kisiSayisi\": 29130}, {\"kisiBasinaDusenIkramiye\": 2.2, \"tur\": \"$3_BILEN\", \"oid\": \"sl_2006-06-24_3\", \"kisiSayisi\": 481529}], \"oid\": \"sl_2006-06-24\", \"devirSayisi\": 0, \"cekilisTuru\": \"SAYISAL_LOTO\", \"rakamlar\": \"15#24#25#31#32#41\", \"cekilisTarihi\": \"24/06/2006\", \"rakamlar'"
      ]
     },
     "execution_count": 5,
     "metadata": {},
     "output_type": "execute_result"
    }
   ],
   "source": [
    "raw_data.flatMap(lambda x: x.split('NumaraSirasi')).filter(lambda x: \"devretti\" in x).take(2000)[500]"
   ]
  },
  {
   "cell_type": "code",
   "execution_count": 6,
   "metadata": {
    "colab": {
     "base_uri": "https://localhost:8080/"
    },
    "id": "dqGMyLhYVO-6",
    "outputId": "57a0e017-8feb-4e5f-d30b-5cefa26a9634"
   },
   "outputs": [
    {
     "data": {
      "text/plain": [
       "[['5', '15', '20', '32', '34', '47'],\n",
       " ['3', '14', '16', '23', '27', '43'],\n",
       " ['6', '22', '26', '31', '38', '44'],\n",
       " ['7', '11', '16', '18', '25', '26'],\n",
       " ['2', '5', '14', '30', '31', '39'],\n",
       " ['2', '14', '24', '25', '30', '36'],\n",
       " ['4', '8', '14', '24', '27', '36'],\n",
       " ['3', '17', '36', '41', '46', '47'],\n",
       " ['4', '15', '16', '18', '27', '41'],\n",
       " ['5', '11', '24', '29', '41', '45']]"
      ]
     },
     "execution_count": 6,
     "metadata": {},
     "output_type": "execute_result"
    }
   ],
   "source": [
    "raw_data.flatMap(lambda x: x.split(\"rakamlarNumaraSirasi\")) \\\n",
    "        .filter(lambda x: \"devretti\" in x) \\\n",
    "        .map(lambda x: x.split(\",\")) \\\n",
    "        .map(lambda x: x[0]) \\\n",
    "        .map(lambda x: x.replace('\": \"',\"\")) \\\n",
    "        .map(lambda x: x.replace('\"',\"\")) \\\n",
    "        .map(lambda x: x.split(\" - \")).take(10)"
   ]
  },
  {
   "cell_type": "code",
   "execution_count": 7,
   "metadata": {
    "id": "F2a7OzbcXb5M"
   },
   "outputs": [],
   "source": [
    "take_numbers = raw_data.flatMap(lambda x: x.split(\"rakamlarNumaraSirasi\")) \\\n",
    "                       .filter(lambda x: \"devretti\" in x) \\\n",
    "                       .map(lambda x: x.split(\",\")) \\\n",
    "                       .map(lambda x: x[0]) \\\n",
    "                       .map(lambda x: x.replace('\": \"',\"\")) \\\n",
    "                       .map(lambda x: x.replace('\"',\"\")) \\\n",
    "                       .map(lambda x: x.split(\" - \")).collect()"
   ]
  },
  {
   "cell_type": "code",
   "execution_count": 8,
   "metadata": {
    "colab": {
     "base_uri": "https://localhost:8080/"
    },
    "id": "JxXjNT-xhs9C",
    "outputId": "d873db36-1d9a-4c0c-da43-eeab88ef0b32"
   },
   "outputs": [
    {
     "data": {
      "text/plain": [
       "['5', '15', '20', '32', '34', '47']"
      ]
     },
     "execution_count": 8,
     "metadata": {},
     "output_type": "execute_result"
    }
   ],
   "source": [
    "take_numbers[0]"
   ]
  },
  {
   "cell_type": "code",
   "execution_count": 9,
   "metadata": {
    "colab": {
     "base_uri": "https://localhost:8080/"
    },
    "id": "JN1K7pOthmpC",
    "outputId": "63d90127-d1e7-434a-cfd7-cc5439589f87"
   },
   "outputs": [
    {
     "data": {
      "text/plain": [
       "[5, 15, 20, 32, 34, 47]"
      ]
     },
     "execution_count": 9,
     "metadata": {},
     "output_type": "execute_result"
    }
   ],
   "source": [
    "list_value = [[int(i) for i in list_] for list_ in take_numbers]\n",
    "list_value[0]"
   ]
  },
  {
   "cell_type": "code",
   "execution_count": 10,
   "metadata": {
    "colab": {
     "base_uri": "https://localhost:8080/"
    },
    "id": "HpmbaG4znH0B",
    "outputId": "915950b9-938a-4f61-8b2f-556ffbe7573b"
   },
   "outputs": [
    {
     "data": {
      "text/plain": [
       "[[5, 15, 20, 32, 34, 47],\n",
       " [3, 14, 16, 23, 27, 43],\n",
       " [6, 22, 26, 31, 38, 44],\n",
       " [7, 11, 16, 18, 25, 26],\n",
       " [2, 5, 14, 30, 31, 39],\n",
       " [2, 14, 24, 25, 30, 36],\n",
       " [4, 8, 14, 24, 27, 36],\n",
       " [3, 17, 36, 41, 46, 47],\n",
       " [4, 15, 16, 18, 27, 41],\n",
       " [5, 11, 24, 29, 41, 45]]"
      ]
     },
     "execution_count": 10,
     "metadata": {},
     "output_type": "execute_result"
    }
   ],
   "source": [
    "list_value = sc.parallelize(list_value)\n",
    "list_value.take(10)"
   ]
  },
  {
   "cell_type": "code",
   "execution_count": 11,
   "metadata": {
    "colab": {
     "base_uri": "https://localhost:8080/"
    },
    "id": "nMsQ11ZSFagB",
    "outputId": "ca766077-3d72-4f1f-8ddc-21e2d9922bf6"
   },
   "outputs": [
    {
     "data": {
      "text/plain": [
       "[(5, 15, 20),\n",
       " (5, 15, 32),\n",
       " (5, 15, 34),\n",
       " (5, 15, 47),\n",
       " (5, 20, 32),\n",
       " (5, 20, 34),\n",
       " (5, 20, 47),\n",
       " (5, 32, 34),\n",
       " (5, 32, 47),\n",
       " (5, 34, 47),\n",
       " (15, 20, 32),\n",
       " (15, 20, 34),\n",
       " (15, 20, 47),\n",
       " (15, 32, 34),\n",
       " (15, 32, 47),\n",
       " (15, 34, 47),\n",
       " (20, 32, 34),\n",
       " (20, 32, 47),\n",
       " (20, 34, 47),\n",
       " (32, 34, 47),\n",
       " (3, 14, 16),\n",
       " (3, 14, 23),\n",
       " (3, 14, 27),\n",
       " (3, 14, 43),\n",
       " (3, 16, 23),\n",
       " (3, 16, 27),\n",
       " (3, 16, 43),\n",
       " (3, 23, 27),\n",
       " (3, 23, 43),\n",
       " (3, 27, 43)]"
      ]
     },
     "execution_count": 11,
     "metadata": {},
     "output_type": "execute_result"
    }
   ],
   "source": [
    "from itertools import combinations\n",
    "\n",
    "def comb(rdd):\n",
    "  triple = list(combinations(rdd, 3))  \n",
    "  return triple\n",
    "\n",
    "tripleRDD = list_value.flatMap(lambda x: comb(x))\n",
    "tripleRDD.take(30)"
   ]
  },
  {
   "cell_type": "code",
   "execution_count": 12,
   "metadata": {
    "colab": {
     "base_uri": "https://localhost:8080/"
    },
    "id": "N5ZVrz1ZYoGx",
    "outputId": "5680221d-b529-4da0-a476-e354c18734f6"
   },
   "outputs": [
    {
     "data": {
      "text/plain": [
       "[((5, 15, 20), 1),\n",
       " ((5, 15, 32), 1),\n",
       " ((5, 15, 34), 1),\n",
       " ((5, 15, 47), 1),\n",
       " ((5, 20, 32), 1),\n",
       " ((5, 20, 34), 1),\n",
       " ((5, 20, 47), 1),\n",
       " ((5, 32, 34), 1),\n",
       " ((5, 32, 47), 1),\n",
       " ((5, 34, 47), 1),\n",
       " ((15, 20, 32), 1),\n",
       " ((15, 20, 34), 1),\n",
       " ((15, 20, 47), 1),\n",
       " ((15, 32, 34), 1),\n",
       " ((15, 32, 47), 1),\n",
       " ((15, 34, 47), 1),\n",
       " ((20, 32, 34), 1),\n",
       " ((20, 32, 47), 1),\n",
       " ((20, 34, 47), 1),\n",
       " ((32, 34, 47), 1),\n",
       " ((3, 14, 16), 1),\n",
       " ((3, 14, 23), 1),\n",
       " ((3, 14, 27), 1),\n",
       " ((3, 14, 43), 1),\n",
       " ((3, 16, 23), 1),\n",
       " ((3, 16, 27), 1),\n",
       " ((3, 16, 43), 1),\n",
       " ((3, 23, 27), 1),\n",
       " ((3, 23, 43), 1),\n",
       " ((3, 27, 43), 1)]"
      ]
     },
     "execution_count": 12,
     "metadata": {},
     "output_type": "execute_result"
    }
   ],
   "source": [
    "most_triple = tripleRDD.map(lambda x: (x,1))\n",
    "most_triple.take(30)"
   ]
  },
  {
   "cell_type": "code",
   "execution_count": 13,
   "metadata": {
    "colab": {
     "base_uri": "https://localhost:8080/"
    },
    "id": "TOyIcWtXZJ3W",
    "outputId": "3fdf9dd4-bbbd-4391-8ca6-0c791d90f709"
   },
   "outputs": [
    {
     "data": {
      "text/plain": [
       "[((3, 8, 40), 8),\n",
       " ((12, 19, 47), 8),\n",
       " ((1, 21, 24), 8),\n",
       " ((23, 39, 47), 7),\n",
       " ((10, 38, 41), 7),\n",
       " ((1, 24, 42), 7),\n",
       " ((4, 9, 22), 7),\n",
       " ((18, 32, 44), 7),\n",
       " ((5, 38, 41), 7),\n",
       " ((7, 17, 20), 7),\n",
       " ((18, 28, 36), 7),\n",
       " ((36, 38, 41), 6),\n",
       " ((4, 39, 42), 6),\n",
       " ((1, 39, 47), 6),\n",
       " ((9, 16, 46), 6),\n",
       " ((6, 20, 47), 6),\n",
       " ((16, 17, 48), 6),\n",
       " ((11, 18, 32), 6),\n",
       " ((1, 16, 44), 6),\n",
       " ((1, 18, 42), 6),\n",
       " ((9, 34, 36), 6),\n",
       " ((11, 16, 44), 6),\n",
       " ((7, 10, 20), 6),\n",
       " ((20, 38, 47), 6),\n",
       " ((11, 18, 41), 6),\n",
       " ((11, 30, 41), 6),\n",
       " ((22, 25, 27), 6),\n",
       " ((7, 16, 17), 6),\n",
       " ((14, 20, 38), 6),\n",
       " ((2, 14, 38), 6),\n",
       " ((6, 16, 44), 6),\n",
       " ((11, 40, 45), 6),\n",
       " ((17, 21, 26), 6),\n",
       " ((40, 41, 45), 6),\n",
       " ((30, 38, 40), 6),\n",
       " ((5, 47, 48), 6),\n",
       " ((12, 34, 46), 6),\n",
       " ((10, 16, 48), 6),\n",
       " ((10, 36, 40), 6),\n",
       " ((2, 22, 38), 6),\n",
       " ((23, 26, 39), 6),\n",
       " ((13, 32, 49), 6),\n",
       " ((16, 36, 48), 6),\n",
       " ((14, 34, 40), 6),\n",
       " ((22, 23, 35), 6),\n",
       " ((2, 14, 31), 5),\n",
       " ((2, 30, 39), 5),\n",
       " ((14, 30, 31), 5),\n",
       " ((4, 14, 27), 5),\n",
       " ((5, 41, 45), 5),\n",
       " ((18, 40, 41), 5),\n",
       " ((18, 28, 29), 5),\n",
       " ((18, 29, 32), 5),\n",
       " ((11, 18, 36), 5),\n",
       " ((6, 38, 41), 5),\n",
       " ((9, 10, 38), 5),\n",
       " ((21, 22, 30), 5),\n",
       " ((29, 32, 46), 5),\n",
       " ((13, 27, 31), 5),\n",
       " ((21, 26, 32), 5),\n",
       " ((21, 32, 48), 5),\n",
       " ((20, 37, 38), 5),\n",
       " ((14, 19, 34), 5),\n",
       " ((11, 40, 44), 5),\n",
       " ((10, 35, 38), 5),\n",
       " ((18, 27, 38), 5),\n",
       " ((13, 28, 46), 5),\n",
       " ((2, 3, 22), 5),\n",
       " ((4, 5, 16), 5),\n",
       " ((20, 37, 42), 5),\n",
       " ((23, 27, 39), 5),\n",
       " ((25, 40, 44), 5),\n",
       " ((7, 15, 21), 5),\n",
       " ((1, 3, 49), 5),\n",
       " ((12, 30, 41), 5),\n",
       " ((12, 41, 48), 5),\n",
       " ((10, 23, 30), 5),\n",
       " ((9, 23, 47), 5),\n",
       " ((10, 13, 26), 5),\n",
       " ((23, 26, 44), 5),\n",
       " ((7, 14, 46), 5),\n",
       " ((22, 23, 40), 5),\n",
       " ((2, 18, 37), 5),\n",
       " ((2, 36, 37), 5),\n",
       " ((11, 14, 44), 5),\n",
       " ((12, 46, 49), 5),\n",
       " ((16, 31, 44), 5),\n",
       " ((2, 30, 49), 5),\n",
       " ((9, 21, 33), 5),\n",
       " ((3, 8, 18), 5),\n",
       " ((3, 18, 40), 5),\n",
       " ((20, 25, 30), 5),\n",
       " ((3, 22, 48), 5),\n",
       " ((14, 33, 38), 5),\n",
       " ((18, 33, 38), 5),\n",
       " ((18, 38, 41), 5),\n",
       " ((1, 5, 17), 5),\n",
       " ((18, 21, 24), 5),\n",
       " ((22, 23, 30), 5),\n",
       " ((10, 11, 12), 5)]"
      ]
     },
     "execution_count": 13,
     "metadata": {},
     "output_type": "execute_result"
    }
   ],
   "source": [
    "most_triple = most_triple.reduceByKey(lambda x,y: x+y)\n",
    "most_triple = most_triple.sortBy(lambda x: x[1], ascending=False)\n",
    "most_triple.take(100)"
   ]
  },
  {
   "cell_type": "markdown",
   "metadata": {
    "id": "UsgTXSawo6Dl"
   },
   "source": [
    "**(3, 8, 40) , (12, 19, 47) and 1, 21, 24) \ttop most drawn\ttriple numbers that occured 8 times**\n"
   ]
  }
 ],
 "metadata": {
  "colab": {
   "provenance": []
  },
  "kernelspec": {
   "display_name": "Python 3 (ipykernel)",
   "language": "python",
   "name": "python3"
  },
  "language_info": {
   "codemirror_mode": {
    "name": "ipython",
    "version": 3
   },
   "file_extension": ".py",
   "mimetype": "text/x-python",
   "name": "python",
   "nbconvert_exporter": "python",
   "pygments_lexer": "ipython3",
   "version": "3.9.12"
  }
 },
 "nbformat": 4,
 "nbformat_minor": 1
}
