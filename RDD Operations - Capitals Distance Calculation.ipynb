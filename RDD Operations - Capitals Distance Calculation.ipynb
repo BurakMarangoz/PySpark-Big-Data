{
 "cells": [
  {
   "cell_type": "code",
   "execution_count": 2,
   "metadata": {
    "colab": {
     "base_uri": "https://localhost:8080/"
    },
    "id": "dzHMnrX89RgO",
    "outputId": "66d9a94b-b7cc-4028-e307-7a6fe9823cdc"
   },
   "outputs": [
    {
     "name": "stdout",
     "output_type": "stream",
     "text": [
      "Looking in indexes: https://pypi.org/simple, https://us-python.pkg.dev/colab-wheels/public/simple/\n",
      "Collecting pyspark\n",
      "  Downloading pyspark-3.4.0.tar.gz (310.8 MB)\n",
      "\u001b[2K     \u001b[90m━━━━━━━━━━━━━━━━━━━━━━━━━━━━━━━━━━━━━━━\u001b[0m \u001b[32m310.8/310.8 MB\u001b[0m \u001b[31m2.6 MB/s\u001b[0m eta \u001b[36m0:00:00\u001b[0m\n",
      "\u001b[?25h  Preparing metadata (setup.py) ... \u001b[?25l\u001b[?25hdone\n",
      "Requirement already satisfied: py4j==0.10.9.7 in /usr/local/lib/python3.9/dist-packages (from pyspark) (0.10.9.7)\n",
      "Building wheels for collected packages: pyspark\n",
      "  Building wheel for pyspark (setup.py) ... \u001b[?25l\u001b[?25hdone\n",
      "  Created wheel for pyspark: filename=pyspark-3.4.0-py2.py3-none-any.whl size=311317145 sha256=214dbc5d6045792253b427b3a5571ca1033b9349dd20cdbd00b1aefe78610a8c\n",
      "  Stored in directory: /root/.cache/pip/wheels/9f/34/a4/159aa12d0a510d5ff7c8f0220abbea42e5d81ecf588c4fd884\n",
      "Successfully built pyspark\n",
      "Installing collected packages: pyspark\n",
      "Successfully installed pyspark-3.4.0\n"
     ]
    }
   ],
   "source": [
    "!pip install pyspark"
   ]
  },
  {
   "cell_type": "code",
   "execution_count": 3,
   "metadata": {
    "colab": {
     "base_uri": "https://localhost:8080/",
     "height": 219
    },
    "id": "TvLxXVXq9hz0",
    "outputId": "75d9a5cd-9808-4dfd-952e-1b8a8c9da649"
   },
   "outputs": [
    {
     "data": {
      "text/html": [
       "\n",
       "            <div>\n",
       "                <p><b>SparkSession - in-memory</b></p>\n",
       "                \n",
       "        <div>\n",
       "            <p><b>SparkContext</b></p>\n",
       "\n",
       "            <p><a href=\"http://db97f188a506:4040\">Spark UI</a></p>\n",
       "\n",
       "            <dl>\n",
       "              <dt>Version</dt>\n",
       "                <dd><code>v3.4.0</code></dd>\n",
       "              <dt>Master</dt>\n",
       "                <dd><code>local[*]</code></dd>\n",
       "              <dt>AppName</dt>\n",
       "                <dd><code>pyspark-shell</code></dd>\n",
       "            </dl>\n",
       "        </div>\n",
       "        \n",
       "            </div>\n",
       "        "
      ],
      "text/plain": [
       "<pyspark.sql.session.SparkSession at 0x7fc2a5bb64f0>"
      ]
     },
     "execution_count": 3,
     "metadata": {},
     "output_type": "execute_result"
    }
   ],
   "source": [
    "from pyspark.sql import SparkSession\n",
    "spark = SparkSession.builder.master(\"local[*]\").getOrCreate()\n",
    "spark"
   ]
  },
  {
   "cell_type": "code",
   "execution_count": 4,
   "metadata": {
    "id": "6eDUBm009zmt"
   },
   "outputs": [],
   "source": [
    "from pyspark import SparkContext\n",
    "sc = spark.sparkContext"
   ]
  },
  {
   "cell_type": "code",
   "execution_count": 7,
   "metadata": {
    "colab": {
     "base_uri": "https://localhost:8080/"
    },
    "id": "wnf2h1pg998F",
    "outputId": "535521db-9d28-4fb7-ef2e-56340d080c69"
   },
   "outputs": [
    {
     "data": {
      "text/plain": [
       "['Afghanistan Flag Icon \\tAfghanistan \\tKabul \\t34,53 \\t69,17\\t',\n",
       " 'Albania Flag Icon \\tAlbania \\tTirana \\t41,33 \\t19,82\\t',\n",
       " 'Algeria Flag Icon \\tAlgeria \\tAlgiers \\t36,75 \\t3,04\\t',\n",
       " 'American Samoa Flag Icon \\tAmerican Samoa \\tPago Pago \\t-14,28 \\t-170,70\\t',\n",
       " 'Andorra Flag Icon \\tAndorra \\tAndorra la Vella \\t42,51 \\t1,52\\t',\n",
       " 'Angola Flag Icon \\tAngola \\tLuanda \\t-8,84 \\t13,23\\t',\n",
       " 'Anguilla Flag Icon \\tAnguilla \\tThe Valley \\t18,22 \\t-63,06\\t',\n",
       " \"Antigua and Barbuda Flag Icon \\tAntigua and Barbuda \\tSt. John's \\t17,12 \\t-61,85\\t\",\n",
       " 'Argentina Flag Icon \\tArgentina \\tBuenos Aires \\t-34,61 \\t-58,38\\t',\n",
       " 'Armenia Flag Icon \\tArmenia \\tYerevan \\t40,18 \\t44,51\\t']"
      ]
     },
     "execution_count": 7,
     "metadata": {},
     "output_type": "execute_result"
    }
   ],
   "source": [
    "data = sc.textFile(\"Capitals.txt\")\n",
    "data.take(10)"
   ]
  },
  {
   "cell_type": "code",
   "execution_count": 8,
   "metadata": {
    "colab": {
     "base_uri": "https://localhost:8080/"
    },
    "id": "mVjR5Sbw-NjZ",
    "outputId": "06f9f9d7-aec5-4565-da59-bd3814b98591"
   },
   "outputs": [
    {
     "data": {
      "text/plain": [
       "[('Kabul', 34.53, 69.17),\n",
       " ('Tirana', 41.33, 19.82),\n",
       " ('Algiers', 36.75, 3.04),\n",
       " ('PagoPago', -14.28, -170.7),\n",
       " ('AndorralaVella', 42.51, 1.52),\n",
       " ('Luanda', -8.84, 13.23),\n",
       " ('TheValley', 18.22, -63.06),\n",
       " (\"St.John's\", 17.12, -61.85),\n",
       " ('BuenosAires', -34.61, -58.38),\n",
       " ('Yerevan', 40.18, 44.51),\n",
       " ('Oranjestad', 12.52, -70.03),\n",
       " ('Canberra', -35.28, 149.13),\n",
       " ('Vienna', 48.21, 16.37),\n",
       " ('Baku', 40.38, 49.89),\n",
       " ('Nassau', 25.06, -77.34),\n",
       " ('Manama', 26.22, 50.58),\n",
       " ('Dhaka', 23.71, 90.41),\n",
       " ('Bridgetown', 13.1, -59.62),\n",
       " ('Minsk', 53.9, 27.57),\n",
       " ('Brussels', 50.85, 4.35)]"
      ]
     },
     "execution_count": 8,
     "metadata": {},
     "output_type": "execute_result"
    }
   ],
   "source": [
    "def new_data(line):\n",
    "    city = line.split(\"\\t\")[2].replace(\"\\t\",\"\").replace(\" \",\"\")\n",
    "    c1 = float(line.split(\"\\t\")[3].replace(\"\\t\",\"\").replace(\",\",\".\"))\n",
    "    c2 = float(line.split(\"\\t\")[4].replace(\"\\t\",\"\").replace(\",\",\".\"))\n",
    "    return (city,c1,c2)\n",
    "\n",
    "new_data_RDD = data.map(new_data)\n",
    "new_data_RDD.take(20)"
   ]
  },
  {
   "cell_type": "code",
   "execution_count": 9,
   "metadata": {
    "colab": {
     "base_uri": "https://localhost:8080/"
    },
    "id": "pq3hDDzw-XfC",
    "outputId": "31fd88a1-305b-4eac-8cc4-be2f732c8aac"
   },
   "outputs": [
    {
     "data": {
      "text/plain": [
       "[(('Kabul', 34.53, 69.17), ('Tirana', 41.33, 19.82)),\n",
       " (('Kabul', 34.53, 69.17), ('Algiers', 36.75, 3.04)),\n",
       " (('Kabul', 34.53, 69.17), ('PagoPago', -14.28, -170.7)),\n",
       " (('Kabul', 34.53, 69.17), ('AndorralaVella', 42.51, 1.52)),\n",
       " (('Kabul', 34.53, 69.17), ('Luanda', -8.84, 13.23)),\n",
       " (('Kabul', 34.53, 69.17), ('TheValley', 18.22, -63.06)),\n",
       " (('Kabul', 34.53, 69.17), (\"St.John's\", 17.12, -61.85)),\n",
       " (('Kabul', 34.53, 69.17), ('BuenosAires', -34.61, -58.38)),\n",
       " (('Kabul', 34.53, 69.17), ('Yerevan', 40.18, 44.51)),\n",
       " (('Kabul', 34.53, 69.17), ('Oranjestad', 12.52, -70.03))]"
      ]
     },
     "execution_count": 9,
     "metadata": {},
     "output_type": "execute_result"
    }
   ],
   "source": [
    "cart_rdd  = new_data_RDD.cartesian(new_data_RDD).filter(lambda x: x[0] != x[1])\n",
    "\n",
    "cart_rdd.take(10)"
   ]
  },
  {
   "cell_type": "code",
   "execution_count": 10,
   "metadata": {
    "id": "iDpnwOFS-cTl"
   },
   "outputs": [],
   "source": [
    "from math import radians, cos, sin, asin, sqrt\n",
    "\n",
    "def distance(x):\n",
    "    cities = str(x[0][0]) + \"-\" + str(x[1][0])\n",
    "    lat1 = radians(x[0][1])\n",
    "    lat2 = radians(x[1][1])\n",
    "    lon1 = radians(x[0][2])\n",
    "    lon2 = radians(x[1][2])\n",
    "      \n",
    "    dlon = lon2 - lon1\n",
    "    dlat = lat2 - lat1\n",
    "    a = sin(dlat / 2)**2 + cos(lat1) * cos(lat2) * sin(dlon / 2)**2 \n",
    "    c = 2 * asin(sqrt(a))\n",
    "    r = 6371\n",
    "    dist = c * r\n",
    "    return(cities,dist)"
   ]
  },
  {
   "cell_type": "code",
   "execution_count": 11,
   "metadata": {
    "colab": {
     "base_uri": "https://localhost:8080/"
    },
    "id": "c6wUwU9w-f1G",
    "outputId": "e7330a34-a640-43c3-a00c-e81828acb880"
   },
   "outputs": [
    {
     "data": {
      "text/plain": [
       "[('Kabul-Tirana', 4334.696822428331),\n",
       " ('Kabul-Algiers', 5857.721358797605),\n",
       " ('Kabul-PagoPago', 13646.126711152365),\n",
       " ('Kabul-AndorralaVella', 5795.92545456428),\n",
       " ('Kabul-Luanda', 7601.072171051554),\n",
       " ('Kabul-TheValley', 12276.86139731658),\n",
       " (\"Kabul-St.John's\", 12284.795083628382),\n",
       " ('Kabul-BuenosAires', 15269.66981717785),\n",
       " ('Kabul-Yerevan', 2260.0223095298275),\n",
       " ('Kabul-Oranjestad', 13240.329603142045),\n",
       " ('Kabul-Canberra', 11356.432260346452),\n",
       " ('Kabul-Vienna', 4560.48429647794),\n",
       " ('Kabul-Baku', 1817.221977020716),\n",
       " ('Kabul-Nassau', 12506.708151931649),\n",
       " ('Kabul-Manama', 2003.9221738691908),\n",
       " ('Kabul-Dhaka', 2380.832710294535),\n",
       " ('Kabul-Bridgetown', 12451.018071564149),\n",
       " ('Kabul-Minsk', 3871.490812142648),\n",
       " ('Kabul-Brussels', 5407.780922140729),\n",
       " ('Kabul-Belmopan', 13802.713384281093)]"
      ]
     },
     "execution_count": 11,
     "metadata": {},
     "output_type": "execute_result"
    }
   ],
   "source": [
    "with_distance = cart_rdd.map(distance)\n",
    "with_distance.take(20)"
   ]
  },
  {
   "cell_type": "code",
   "execution_count": 12,
   "metadata": {
    "colab": {
     "base_uri": "https://localhost:8080/"
    },
    "id": "4Tj-gkYT-iQO",
    "outputId": "90a8cad3-2bde-4561-d485-7bb8ded0e8f2"
   },
   "outputs": [
    {
     "data": {
      "text/plain": [
       "[('Asunción-Taipei', 19927.057280169684),\n",
       " ('Taipei-Asunción', 19927.057280169684),\n",
       " ('Manama-Adamstown', 19870.180332738233),\n",
       " ('Adamstown-Manama', 19870.180332738233),\n",
       " ('Wellington-Madrid', 19854.77528376995),\n",
       " ('Madrid-Wellington', 19854.77528376995),\n",
       " ('Adamstown-Doha', 19850.398894187754),\n",
       " ('Doha-Adamstown', 19850.398894187754),\n",
       " ('Niamey-Mata-Utu', 19827.285390740144),\n",
       " ('Mata-Utu-Niamey', 19827.285390740144),\n",
       " ('Bogotá-Jakarta', 19809.53689302646),\n",
       " ('Jakarta-Bogotá', 19809.53689302646),\n",
       " ('PhnomPenh-Lima', 19796.231964289153),\n",
       " ('Lima-PhnomPenh', 19796.231964289153),\n",
       " ('Kingston-ElAaiún', 19775.642526131687),\n",
       " ('ElAaiún-Kingston', 19775.642526131687),\n",
       " ('WestIsland-SanJosé', 19748.379782136148),\n",
       " ('SanJosé-WestIsland', 19748.379782136148),\n",
       " ('Monrovia-Nukunonu', 19744.04072555748),\n",
       " ('Nukunonu-Monrovia', 19744.04072555748)]"
      ]
     },
     "execution_count": 12,
     "metadata": {},
     "output_type": "execute_result"
    }
   ],
   "source": [
    "with_distance = with_distance.sortBy(lambda x: x[1],ascending=False)\n",
    "with_distance.take(20)"
   ]
  },
  {
   "cell_type": "markdown",
   "metadata": {
    "id": "-nr7RhUR-tpI"
   },
   "source": [
    "**Asunción and Taipei are the ones that furthest\taway from\teach\tother with 19.927 kilometers.**"
   ]
  },
  {
   "cell_type": "code",
   "execution_count": null,
   "metadata": {
    "id": "EmnSr0it_Agw"
   },
   "outputs": [],
   "source": []
  }
 ],
 "metadata": {
  "colab": {
   "provenance": []
  },
  "kernelspec": {
   "display_name": "Python 3 (ipykernel)",
   "language": "python",
   "name": "python3"
  },
  "language_info": {
   "codemirror_mode": {
    "name": "ipython",
    "version": 3
   },
   "file_extension": ".py",
   "mimetype": "text/x-python",
   "name": "python",
   "nbconvert_exporter": "python",
   "pygments_lexer": "ipython3",
   "version": "3.9.12"
  }
 },
 "nbformat": 4,
 "nbformat_minor": 1
}
