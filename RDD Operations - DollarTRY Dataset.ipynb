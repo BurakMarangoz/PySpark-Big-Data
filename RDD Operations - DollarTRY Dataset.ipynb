{
 "cells": [
  {
   "cell_type": "code",
   "execution_count": 1,
   "metadata": {
    "colab": {
     "base_uri": "https://localhost:8080/"
    },
    "id": "9oVziPxJh_VR",
    "outputId": "0b11e6d5-25be-4fd9-8caa-5f3c1c550155"
   },
   "outputs": [
    {
     "name": "stdout",
     "output_type": "stream",
     "text": [
      "Looking in indexes: https://pypi.org/simple, https://us-python.pkg.dev/colab-wheels/public/simple/\n",
      "Requirement already satisfied: pyspark in /usr/local/lib/python3.9/dist-packages (3.4.0)\n",
      "Requirement already satisfied: py4j==0.10.9.7 in /usr/local/lib/python3.9/dist-packages (from pyspark) (0.10.9.7)\n"
     ]
    }
   ],
   "source": [
    "!pip install pyspark"
   ]
  },
  {
   "cell_type": "code",
   "execution_count": 2,
   "metadata": {
    "colab": {
     "base_uri": "https://localhost:8080/",
     "height": 219
    },
    "id": "ijL4XwGUiEr7",
    "outputId": "600c2fa6-6af3-4d51-d995-ef9d0b2ff580"
   },
   "outputs": [
    {
     "data": {
      "text/html": [
       "\n",
       "            <div>\n",
       "                <p><b>SparkSession - in-memory</b></p>\n",
       "                \n",
       "        <div>\n",
       "            <p><b>SparkContext</b></p>\n",
       "\n",
       "            <p><a href=\"http://2c8e7073ae1f:4040\">Spark UI</a></p>\n",
       "\n",
       "            <dl>\n",
       "              <dt>Version</dt>\n",
       "                <dd><code>v3.4.0</code></dd>\n",
       "              <dt>Master</dt>\n",
       "                <dd><code>local[*]</code></dd>\n",
       "              <dt>AppName</dt>\n",
       "                <dd><code>pyspark-shell</code></dd>\n",
       "            </dl>\n",
       "        </div>\n",
       "        \n",
       "            </div>\n",
       "        "
      ],
      "text/plain": [
       "<pyspark.sql.session.SparkSession at 0x7fc3de5073d0>"
      ]
     },
     "execution_count": 2,
     "metadata": {},
     "output_type": "execute_result"
    }
   ],
   "source": [
    "from pyspark.sql import SparkSession\n",
    "spark = SparkSession.builder.master(\"local[*]\").getOrCreate()\n",
    "spark"
   ]
  },
  {
   "cell_type": "code",
   "execution_count": 3,
   "metadata": {
    "id": "tq5U1EWviHhi"
   },
   "outputs": [],
   "source": [
    "from pyspark import SparkContext\n",
    "sc = spark.sparkContext"
   ]
  },
  {
   "cell_type": "code",
   "execution_count": 4,
   "metadata": {
    "colab": {
     "base_uri": "https://localhost:8080/"
    },
    "id": "ofrmgPUviJbD",
    "outputId": "603949a2-063b-43b3-c3d6-6efee8d8b33f"
   },
   "outputs": [
    {
     "data": {
      "text/plain": [
       "['1\\t02-01-1950\\t2,80',\n",
       " '2\\t03-01-1950\\t2,80',\n",
       " '3\\t04-01-1950\\t2,80',\n",
       " '4\\t05-01-1950\\t2,80',\n",
       " '5\\t06-01-1950\\t2,80',\n",
       " '6\\t09-01-1950\\t2,80',\n",
       " '7\\t10-01-1950\\t2,80',\n",
       " '8\\t11-01-1950\\t2,80',\n",
       " '9\\t12-01-1950\\t2,80',\n",
       " '10\\t13-01-1950\\t2,80']"
      ]
     },
     "execution_count": 4,
     "metadata": {},
     "output_type": "execute_result"
    }
   ],
   "source": [
    "raw_data = sc.textFile(\"DollarDataset.txt\")\n",
    "raw_data.take(10)"
   ]
  },
  {
   "cell_type": "code",
   "execution_count": 5,
   "metadata": {
    "colab": {
     "base_uri": "https://localhost:8080/"
    },
    "id": "wOHLIW_zN0hj",
    "outputId": "e0d24ac9-a3c8-45e3-8428-d4b2ebcc299c"
   },
   "outputs": [
    {
     "data": {
      "text/plain": [
       "17776"
      ]
     },
     "execution_count": 5,
     "metadata": {},
     "output_type": "execute_result"
    }
   ],
   "source": [
    "raw_data.count()"
   ]
  },
  {
   "cell_type": "code",
   "execution_count": 6,
   "metadata": {
    "colab": {
     "base_uri": "https://localhost:8080/"
    },
    "id": "9HfI80zIicer",
    "outputId": "9dc91bab-8744-4757-8740-939207929370"
   },
   "outputs": [
    {
     "data": {
      "text/plain": [
       "[('02-01-1950', '2.80'), ('03-01-1950', '2.80'), ('04-01-1950', '2.80')]"
      ]
     },
     "execution_count": 6,
     "metadata": {},
     "output_type": "execute_result"
    }
   ],
   "source": [
    "def splitting(line):\n",
    "    pr1 = line.split(\"\\t\")\n",
    "    date1 = pr1[1]\n",
    "    price = pr1[2].replace(\".\",\"\").replace(\",\",\".\")\n",
    "    return (date1,price)\n",
    "\n",
    "splitted = raw_data.map(splitting)\n",
    "splitted.take(3)"
   ]
  },
  {
   "cell_type": "code",
   "execution_count": 7,
   "metadata": {
    "colab": {
     "base_uri": "https://localhost:8080/"
    },
    "id": "04JpxFZuNj2S",
    "outputId": "8ede14aa-0100-49a8-e8fa-5f8571a54609"
   },
   "outputs": [
    {
     "data": {
      "text/plain": [
       "[('02-01-1950', '2.80'),\n",
       " ('03-01-1950', '2.80'),\n",
       " ('04-01-1950', '2.80'),\n",
       " ('05-01-1950', '2.80'),\n",
       " ('06-01-1950', '2.80'),\n",
       " ('09-01-1950', '2.80'),\n",
       " ('10-01-1950', '2.80'),\n",
       " ('11-01-1950', '2.80'),\n",
       " ('12-01-1950', '2.80'),\n",
       " ('13-01-1950', '2.80')]"
      ]
     },
     "execution_count": 7,
     "metadata": {},
     "output_type": "execute_result"
    }
   ],
   "source": [
    "splitted = splitted.filter(lambda x: x[1] != '')\n",
    "splitted.take(10)"
   ]
  },
  {
   "cell_type": "code",
   "execution_count": 8,
   "metadata": {
    "colab": {
     "base_uri": "https://localhost:8080/"
    },
    "id": "Gd1iyEcxOKMV",
    "outputId": "449e5555-1180-4f34-d858-f1d63a8f62ad"
   },
   "outputs": [
    {
     "data": {
      "text/plain": [
       "17190"
      ]
     },
     "execution_count": 8,
     "metadata": {},
     "output_type": "execute_result"
    }
   ],
   "source": [
    "splitted.count()"
   ]
  },
  {
   "cell_type": "code",
   "execution_count": 9,
   "metadata": {
    "colab": {
     "base_uri": "https://localhost:8080/"
    },
    "id": "bJdqdeQ9OcQR",
    "outputId": "6ceaa656-565a-4fc7-8cff-9bb0207d7ab5"
   },
   "outputs": [
    {
     "data": {
      "text/plain": [
       "[(0, ('02-01-1950', '2.80')),\n",
       " (1, ('03-01-1950', '2.80')),\n",
       " (2, ('04-01-1950', '2.80')),\n",
       " (3, ('05-01-1950', '2.80')),\n",
       " (4, ('06-01-1950', '2.80')),\n",
       " (5, ('09-01-1950', '2.80')),\n",
       " (6, ('10-01-1950', '2.80')),\n",
       " (7, ('11-01-1950', '2.80')),\n",
       " (8, ('12-01-1950', '2.80')),\n",
       " (9, ('13-01-1950', '2.80'))]"
      ]
     },
     "execution_count": 9,
     "metadata": {},
     "output_type": "execute_result"
    }
   ],
   "source": [
    "splitted = splitted.zipWithIndex()\n",
    "splitted = splitted.map(lambda x :(x[1],x[0]))\n",
    "splitted.take(10)"
   ]
  },
  {
   "cell_type": "code",
   "execution_count": 10,
   "metadata": {
    "colab": {
     "base_uri": "https://localhost:8080/"
    },
    "id": "akpbOXeee4LV",
    "outputId": "c81f35d7-717a-4805-d080-502ffc4082cb"
   },
   "outputs": [
    {
     "data": {
      "text/plain": [
       "[(0, ('02-01-1950', 2.8)),\n",
       " (1, ('03-01-1950', 2.8)),\n",
       " (2, ('04-01-1950', 2.8)),\n",
       " (3, ('05-01-1950', 2.8)),\n",
       " (4, ('06-01-1950', 2.8)),\n",
       " (5, ('09-01-1950', 2.8)),\n",
       " (6, ('10-01-1950', 2.8)),\n",
       " (7, ('11-01-1950', 2.8)),\n",
       " (8, ('12-01-1950', 2.8)),\n",
       " (9, ('13-01-1950', 2.8))]"
      ]
     },
     "execution_count": 10,
     "metadata": {},
     "output_type": "execute_result"
    }
   ],
   "source": [
    "to_float = splitted.map(lambda x: (x[0],(x[1][0],float(x[1][1]))))\n",
    "to_float.take(10)"
   ]
  },
  {
   "cell_type": "code",
   "execution_count": 11,
   "metadata": {
    "colab": {
     "base_uri": "https://localhost:8080/"
    },
    "id": "5e2MmznmjF07",
    "outputId": "c08f4752-9eb2-4b1c-f9d5-70ac35b4e30d"
   },
   "outputs": [
    {
     "data": {
      "text/plain": [
       "[(1, ('02-01-1950', 2.8)),\n",
       " (2, ('03-01-1950', 2.8)),\n",
       " (3, ('04-01-1950', 2.8)),\n",
       " (4, ('05-01-1950', 2.8)),\n",
       " (5, ('06-01-1950', 2.8)),\n",
       " (6, ('09-01-1950', 2.8)),\n",
       " (7, ('10-01-1950', 2.8)),\n",
       " (8, ('11-01-1950', 2.8)),\n",
       " (9, ('12-01-1950', 2.8)),\n",
       " (10, ('13-01-1950', 2.8)),\n",
       " (11, ('16-01-1950', 2.8)),\n",
       " (12, ('17-01-1950', 2.8)),\n",
       " (13, ('18-01-1950', 2.8)),\n",
       " (14, ('19-01-1950', 2.8)),\n",
       " (15, ('20-01-1950', 2.8)),\n",
       " (16, ('23-01-1950', 2.8)),\n",
       " (17, ('24-01-1950', 2.8)),\n",
       " (18, ('25-01-1950', 2.8)),\n",
       " (19, ('26-01-1950', 2.8)),\n",
       " (20, ('27-01-1950', 2.8))]"
      ]
     },
     "execution_count": 11,
     "metadata": {},
     "output_type": "execute_result"
    }
   ],
   "source": [
    "diff1 = to_float.map(lambda x : (x[0]+1,x[1]))\n",
    "diff1.take(20)"
   ]
  },
  {
   "cell_type": "code",
   "execution_count": 12,
   "metadata": {
    "colab": {
     "base_uri": "https://localhost:8080/"
    },
    "id": "-SVPiM1ojtMA",
    "outputId": "8a1fb5c8-970e-4e4c-f819-8a47b2955546"
   },
   "outputs": [
    {
     "data": {
      "text/plain": [
       "[(1, (('03-01-1950', 2.8), ('02-01-1950', 2.8))),\n",
       " (2, (('04-01-1950', 2.8), ('03-01-1950', 2.8))),\n",
       " (3, (('05-01-1950', 2.8), ('04-01-1950', 2.8))),\n",
       " (4, (('06-01-1950', 2.8), ('05-01-1950', 2.8))),\n",
       " (5, (('09-01-1950', 2.8), ('06-01-1950', 2.8))),\n",
       " (6, (('10-01-1950', 2.8), ('09-01-1950', 2.8))),\n",
       " (7, (('11-01-1950', 2.8), ('10-01-1950', 2.8))),\n",
       " (8, (('12-01-1950', 2.8), ('11-01-1950', 2.8))),\n",
       " (9, (('13-01-1950', 2.8), ('12-01-1950', 2.8))),\n",
       " (10, (('16-01-1950', 2.8), ('13-01-1950', 2.8)))]"
      ]
     },
     "execution_count": 12,
     "metadata": {},
     "output_type": "execute_result"
    }
   ],
   "source": [
    "joinedRDD = to_float.join(diff1).sortByKey()\n",
    "joinedRDD.take(10)"
   ]
  },
  {
   "cell_type": "code",
   "execution_count": 13,
   "metadata": {
    "colab": {
     "base_uri": "https://localhost:8080/"
    },
    "id": "juGi3MNU0EGo",
    "outputId": "ad20efbf-c03f-4819-ffd7-c5c9d92eefd8"
   },
   "outputs": [
    {
     "data": {
      "text/plain": [
       "[('22-08-1960', 221.42857142857144),\n",
       " ('25-01-1980', 100.0),\n",
       " ('10-08-1970', 64.99999999999999),\n",
       " ('23-02-2001', 39.75657690281898),\n",
       " ('06-04-1994', 38.88985856101814)]"
      ]
     },
     "execution_count": 13,
     "metadata": {},
     "output_type": "execute_result"
    }
   ],
   "source": [
    "resultRDD = joinedRDD.map(lambda x: (x[1][0][0], ((x[1][0][1] - x[1][1][1]) / x[1][1][1])*100))\n",
    "resultRDD.sortBy(lambda x: x[1], ascending=False).take(5)"
   ]
  },
  {
   "cell_type": "code",
   "execution_count": null,
   "metadata": {
    "id": "dqbUzq8tRs-m"
   },
   "outputs": [],
   "source": []
  }
 ],
 "metadata": {
  "colab": {
   "provenance": []
  },
  "kernelspec": {
   "display_name": "Python 3 (ipykernel)",
   "language": "python",
   "name": "python3"
  },
  "language_info": {
   "codemirror_mode": {
    "name": "ipython",
    "version": 3
   },
   "file_extension": ".py",
   "mimetype": "text/x-python",
   "name": "python",
   "nbconvert_exporter": "python",
   "pygments_lexer": "ipython3",
   "version": "3.9.12"
  }
 },
 "nbformat": 4,
 "nbformat_minor": 1
}
