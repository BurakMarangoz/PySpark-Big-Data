{
 "cells": [
  {
   "cell_type": "code",
   "execution_count": 1,
   "metadata": {
    "colab": {
     "base_uri": "https://localhost:8080/"
    },
    "id": "JCkycrklrRFf",
    "outputId": "9eefb921-1a84-447a-e413-6b159c8e1778"
   },
   "outputs": [
    {
     "name": "stdout",
     "output_type": "stream",
     "text": [
      "Looking in indexes: https://pypi.org/simple, https://us-python.pkg.dev/colab-wheels/public/simple/\n",
      "Collecting pyspark\n",
      "  Downloading pyspark-3.4.0.tar.gz (310.8 MB)\n",
      "\u001b[2K     \u001b[90m━━━━━━━━━━━━━━━━━━━━━━━━━━━━━━━━━━━━━━━\u001b[0m \u001b[32m310.8/310.8 MB\u001b[0m \u001b[31m4.1 MB/s\u001b[0m eta \u001b[36m0:00:00\u001b[0m\n",
      "\u001b[?25h  Preparing metadata (setup.py) ... \u001b[?25l\u001b[?25hdone\n",
      "Requirement already satisfied: py4j==0.10.9.7 in /usr/local/lib/python3.10/dist-packages (from pyspark) (0.10.9.7)\n",
      "Building wheels for collected packages: pyspark\n",
      "  Building wheel for pyspark (setup.py) ... \u001b[?25l\u001b[?25hdone\n",
      "  Created wheel for pyspark: filename=pyspark-3.4.0-py2.py3-none-any.whl size=311317145 sha256=ec9e4e25bad3349243e7d62b58e926128bbbf0c5470f3d1f2f2c0d28c6c8987a\n",
      "  Stored in directory: /root/.cache/pip/wheels/7b/1b/4b/3363a1d04368e7ff0d408e57ff57966fcdf00583774e761327\n",
      "Successfully built pyspark\n",
      "Installing collected packages: pyspark\n",
      "Successfully installed pyspark-3.4.0\n"
     ]
    }
   ],
   "source": [
    "!pip install pyspark"
   ]
  },
  {
   "cell_type": "code",
   "execution_count": 2,
   "metadata": {
    "colab": {
     "base_uri": "https://localhost:8080/",
     "height": 219
    },
    "id": "9gFUq60VsN9L",
    "outputId": "8db51fa1-8a41-4626-c763-9def31c784de"
   },
   "outputs": [
    {
     "data": {
      "text/html": [
       "\n",
       "            <div>\n",
       "                <p><b>SparkSession - in-memory</b></p>\n",
       "                \n",
       "        <div>\n",
       "            <p><b>SparkContext</b></p>\n",
       "\n",
       "            <p><a href=\"http://7268320d1c88:4040\">Spark UI</a></p>\n",
       "\n",
       "            <dl>\n",
       "              <dt>Version</dt>\n",
       "                <dd><code>v3.4.0</code></dd>\n",
       "              <dt>Master</dt>\n",
       "                <dd><code>local[*]</code></dd>\n",
       "              <dt>AppName</dt>\n",
       "                <dd><code>pyspark-shell</code></dd>\n",
       "            </dl>\n",
       "        </div>\n",
       "        \n",
       "            </div>\n",
       "        "
      ],
      "text/plain": [
       "<pyspark.sql.session.SparkSession at 0x7fb9bcc12740>"
      ]
     },
     "execution_count": 2,
     "metadata": {},
     "output_type": "execute_result"
    }
   ],
   "source": [
    "from pyspark.sql import SparkSession\n",
    "spark = SparkSession.builder.master(\"local[*]\").getOrCreate()\n",
    "spark"
   ]
  },
  {
   "cell_type": "code",
   "execution_count": 3,
   "metadata": {
    "id": "VshJyrqssPRs"
   },
   "outputs": [],
   "source": [
    "from pyspark import SparkContext\n",
    "sc = spark.sparkContext"
   ]
  },
  {
   "cell_type": "code",
   "execution_count": 41,
   "metadata": {
    "id": "YrGnCSB1sQyE"
   },
   "outputs": [],
   "source": [
    "from pyspark.sql import functions as F\n",
    "from pyspark.sql.window import Window"
   ]
  },
  {
   "cell_type": "code",
   "execution_count": 49,
   "metadata": {
    "colab": {
     "base_uri": "https://localhost:8080/"
    },
    "id": "lZLO2ZZELSNS",
    "outputId": "49a31b10-81be-481a-bf8f-482171eaa3d0"
   },
   "outputs": [
    {
     "name": "stdout",
     "output_type": "stream",
     "text": [
      "+-----+------+----------------+---------------+\n",
      "|user1|userId|same_movie_count|rating_diff_sum|\n",
      "+-----+------+----------------+---------------+\n",
      "|    1|   587|              25|            2.0|\n",
      "|    2|   582|               9|           2.35|\n",
      "|    4|   599|             128|            5.2|\n",
      "|    7|   475|              42|           7.38|\n",
      "|    9|   564|               3|            0.0|\n",
      "|   12|   589|               1|           0.71|\n",
      "|   16|   584|               6|           2.24|\n",
      "|   18|   552|              47|            3.0|\n",
      "|   21|   600|             110|           7.07|\n",
      "|   26|   594|               7|           2.74|\n",
      "+-----+------+----------------+---------------+\n",
      "only showing top 10 rows\n",
      "\n"
     ]
    }
   ],
   "source": [
    "df_ratings = spark.read. \\\n",
    "option(\"header\",\"True\"). \\\n",
    "option(\"inferSchema\",\"True\"). \\\n",
    "csv(\"ratings.csv\")\n",
    "\n",
    "df_ratings_reduced = df_ratings.select(\"userId\",\"movieId\",\"rating\")\n",
    "\n",
    "df = df_ratings_reduced.withColumn(\"movieId_int\", F.col(\"movieId\").cast(\"int\"))\n",
    "\n",
    "joined = df.alias('df1').withColumnRenamed('userId', 'user1').join(df.alias('df2'), on=['movieId_int'], how='left') \\\n",
    "                        .filter(F.col('user1') < F.col('df2.userId'))\n",
    "\n",
    "final_df = joined.groupBy('user1', 'df2.userId').agg(F.count('*').alias('same_movie_count'), \n",
    "                                                     F.round(F.sqrt(F.abs(F.sum(F.col('df1.rating')-F.col('df2.rating')))),2).alias('rating_diff_sum'))\n",
    "\n",
    "final_df.show(10)"
   ]
  },
  {
   "cell_type": "code",
   "execution_count": 50,
   "metadata": {
    "colab": {
     "base_uri": "https://localhost:8080/"
    },
    "id": "xQWiCTrVL5wr",
    "outputId": "b7487cdf-2d13-4a1f-a5f0-89f9190a8837"
   },
   "outputs": [
    {
     "name": "stdout",
     "output_type": "stream",
     "text": [
      "+-----+------+----------------+---------------+------------+\n",
      "|user1|userId|same_movie_count|rating_diff_sum|similarities|\n",
      "+-----+------+----------------+---------------+------------+\n",
      "|    1|   587|              25|            2.0|        12.5|\n",
      "|    2|   582|               9|           2.35|        3.83|\n",
      "|    4|   599|             128|            5.2|       24.62|\n",
      "|    7|   475|              42|           7.38|        5.69|\n",
      "|    9|   564|               3|            0.0|        null|\n",
      "+-----+------+----------------+---------------+------------+\n",
      "only showing top 5 rows\n",
      "\n"
     ]
    }
   ],
   "source": [
    "final_df = final_df.withColumn(\"similarities\", F.round((final_df.same_movie_count / final_df.rating_diff_sum),2))\n",
    "final_df.show(5)"
   ]
  },
  {
   "cell_type": "code",
   "execution_count": 51,
   "metadata": {
    "id": "CbD0z2kjNCuB"
   },
   "outputs": [],
   "source": [
    "final_df = final_df.na.fill(value=0,subset=[\"similarities\"])"
   ]
  },
  {
   "cell_type": "code",
   "execution_count": 52,
   "metadata": {
    "colab": {
     "base_uri": "https://localhost:8080/"
    },
    "id": "o0mAoSVcOgUQ",
    "outputId": "5986a3af-eabf-4566-cffd-f63bab76c1ec"
   },
   "outputs": [
    {
     "name": "stdout",
     "output_type": "stream",
     "text": [
      "+-----+------+----------------+---------------+------------+\n",
      "|user1|userId|same_movie_count|rating_diff_sum|similarities|\n",
      "+-----+------+----------------+---------------+------------+\n",
      "|    1|   573|              66|            1.0|        66.0|\n",
      "|    1|   171|              32|            1.0|        32.0|\n",
      "|    1|   339|              34|           1.22|       27.87|\n",
      "|    1|   380|             126|           4.69|       26.87|\n",
      "|    1|   610|              69|            3.0|        23.0|\n",
      "|    1|   532|              23|            1.0|        23.0|\n",
      "|    1|   201|              39|           1.73|       22.54|\n",
      "|    1|    45|             100|           4.58|       21.83|\n",
      "|    1|    62|              29|           1.41|       20.57|\n",
      "|    1|   382|              29|           1.41|       20.57|\n",
      "|    2|   247|              15|           0.71|       21.13|\n",
      "|    2|   212|              14|           0.71|       19.72|\n",
      "|    2|   111|              17|            1.0|        17.0|\n",
      "|    2|   274|              16|            1.0|        16.0|\n",
      "|    2|   561|              16|            1.0|        16.0|\n",
      "+-----+------+----------------+---------------+------------+\n",
      "only showing top 15 rows\n",
      "\n"
     ]
    }
   ],
   "source": [
    "w = Window.partitionBy('user1').orderBy(F.desc('similarities'))\n",
    "top10similarities = final_df.select('*', F.rank().over(w).alias('rank')).filter(F.col('rank') <= 10).drop('rank')\n",
    "top10similarities = top10similarities.sort(top10similarities[\"user1\"].asc(),top10similarities[\"similarities\"].desc())\n",
    "top10similarities.show(15)"
   ]
  },
  {
   "cell_type": "code",
   "execution_count": null,
   "metadata": {
    "id": "PORvmJKAOpW0"
   },
   "outputs": [],
   "source": []
  }
 ],
 "metadata": {
  "colab": {
   "provenance": []
  },
  "kernelspec": {
   "display_name": "Python 3 (ipykernel)",
   "language": "python",
   "name": "python3"
  },
  "language_info": {
   "codemirror_mode": {
    "name": "ipython",
    "version": 3
   },
   "file_extension": ".py",
   "mimetype": "text/x-python",
   "name": "python",
   "nbconvert_exporter": "python",
   "pygments_lexer": "ipython3",
   "version": "3.9.12"
  }
 },
 "nbformat": 4,
 "nbformat_minor": 1
}
