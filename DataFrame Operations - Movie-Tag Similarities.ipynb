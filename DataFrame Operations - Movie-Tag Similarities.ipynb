{
 "cells": [
  {
   "cell_type": "code",
   "execution_count": 1,
   "metadata": {
    "colab": {
     "base_uri": "https://localhost:8080/"
    },
    "id": "Y15KNZjRp6M0",
    "outputId": "c88ad25f-e567-4f18-851f-054512b4b8ae"
   },
   "outputs": [
    {
     "name": "stdout",
     "output_type": "stream",
     "text": [
      "Looking in indexes: https://pypi.org/simple, https://us-python.pkg.dev/colab-wheels/public/simple/\n",
      "Collecting pyspark\n",
      "  Downloading pyspark-3.4.0.tar.gz (310.8 MB)\n",
      "\u001b[2K     \u001b[90m━━━━━━━━━━━━━━━━━━━━━━━━━━━━━━━━━━━━━━━\u001b[0m \u001b[32m310.8/310.8 MB\u001b[0m \u001b[31m2.3 MB/s\u001b[0m eta \u001b[36m0:00:00\u001b[0m\n",
      "\u001b[?25h  Preparing metadata (setup.py) ... \u001b[?25l\u001b[?25hdone\n",
      "Requirement already satisfied: py4j==0.10.9.7 in /usr/local/lib/python3.10/dist-packages (from pyspark) (0.10.9.7)\n",
      "Building wheels for collected packages: pyspark\n",
      "  Building wheel for pyspark (setup.py) ... \u001b[?25l\u001b[?25hdone\n",
      "  Created wheel for pyspark: filename=pyspark-3.4.0-py2.py3-none-any.whl size=311317145 sha256=0827af016a62a15c712b9c84d24c05bd940d61952f96e12b23f8d9922c239242\n",
      "  Stored in directory: /root/.cache/pip/wheels/7b/1b/4b/3363a1d04368e7ff0d408e57ff57966fcdf00583774e761327\n",
      "Successfully built pyspark\n",
      "Installing collected packages: pyspark\n",
      "Successfully installed pyspark-3.4.0\n"
     ]
    }
   ],
   "source": [
    "!pip install pyspark"
   ]
  },
  {
   "cell_type": "code",
   "execution_count": 2,
   "metadata": {
    "colab": {
     "base_uri": "https://localhost:8080/",
     "height": 219
    },
    "id": "DI0yL0nxqARe",
    "outputId": "8d450ff1-7498-496a-fd1a-29074a8940bd"
   },
   "outputs": [
    {
     "data": {
      "text/html": [
       "\n",
       "            <div>\n",
       "                <p><b>SparkSession - in-memory</b></p>\n",
       "                \n",
       "        <div>\n",
       "            <p><b>SparkContext</b></p>\n",
       "\n",
       "            <p><a href=\"http://6c31588dead4:4040\">Spark UI</a></p>\n",
       "\n",
       "            <dl>\n",
       "              <dt>Version</dt>\n",
       "                <dd><code>v3.4.0</code></dd>\n",
       "              <dt>Master</dt>\n",
       "                <dd><code>local[*]</code></dd>\n",
       "              <dt>AppName</dt>\n",
       "                <dd><code>pyspark-shell</code></dd>\n",
       "            </dl>\n",
       "        </div>\n",
       "        \n",
       "            </div>\n",
       "        "
      ],
      "text/plain": [
       "<pyspark.sql.session.SparkSession at 0x7f32a0b16710>"
      ]
     },
     "execution_count": 2,
     "metadata": {},
     "output_type": "execute_result"
    }
   ],
   "source": [
    "from pyspark.sql import SparkSession\n",
    "spark = SparkSession.builder.master(\"local[*]\").getOrCreate()\n",
    "spark"
   ]
  },
  {
   "cell_type": "code",
   "execution_count": 3,
   "metadata": {
    "id": "2nRuMD7bqFtb"
   },
   "outputs": [],
   "source": [
    "from pyspark import SparkContext\n",
    "sc = spark.sparkContext"
   ]
  },
  {
   "cell_type": "code",
   "execution_count": 4,
   "metadata": {
    "id": "C_41bXBiqHN6"
   },
   "outputs": [],
   "source": [
    "from pyspark.sql import functions as F"
   ]
  },
  {
   "cell_type": "code",
   "execution_count": 5,
   "metadata": {
    "colab": {
     "base_uri": "https://localhost:8080/"
    },
    "id": "HgXr-XA-qLTz",
    "outputId": "e64190b6-cf04-42a8-e4b7-b14ef3f34806"
   },
   "outputs": [
    {
     "name": "stdout",
     "output_type": "stream",
     "text": [
      "+------+-------+---------------+----------+\n",
      "|userId|movieId|            tag| timestamp|\n",
      "+------+-------+---------------+----------+\n",
      "|     2|  60756|          funny|1445714994|\n",
      "|     2|  60756|Highly quotable|1445714996|\n",
      "|     2|  60756|   will ferrell|1445714992|\n",
      "+------+-------+---------------+----------+\n",
      "only showing top 3 rows\n",
      "\n"
     ]
    }
   ],
   "source": [
    "df_tags = spark.read. \\\n",
    "option(\"header\",\"True\"). \\\n",
    "option(\"inferSchema\",\"True\"). \\\n",
    "csv(\"tags.csv\")\n",
    "df_tags.show(3)"
   ]
  },
  {
   "cell_type": "code",
   "execution_count": 6,
   "metadata": {
    "colab": {
     "base_uri": "https://localhost:8080/"
    },
    "id": "KdxkXC_ZqNYT",
    "outputId": "082af6e0-5079-4103-ded2-93fe72aed6a8"
   },
   "outputs": [
    {
     "name": "stdout",
     "output_type": "stream",
     "text": [
      "root\n",
      " |-- userId: integer (nullable = true)\n",
      " |-- movieId: integer (nullable = true)\n",
      " |-- tag: string (nullable = true)\n",
      " |-- timestamp: integer (nullable = true)\n",
      "\n"
     ]
    }
   ],
   "source": [
    "df_tags.printSchema()"
   ]
  },
  {
   "cell_type": "code",
   "execution_count": 9,
   "metadata": {
    "colab": {
     "base_uri": "https://localhost:8080/"
    },
    "id": "GYErj27mqO6r",
    "outputId": "bc45115d-75b6-4e9e-c8ca-f4b04a0e6341"
   },
   "outputs": [
    {
     "name": "stdout",
     "output_type": "stream",
     "text": [
      "+---------------+---------+\n",
      "|            tag|  to_join|\n",
      "+---------------+---------+\n",
      "|          funny|2 - 60756|\n",
      "|Highly quotable|2 - 60756|\n",
      "|   will ferrell|2 - 60756|\n",
      "+---------------+---------+\n",
      "only showing top 3 rows\n",
      "\n"
     ]
    }
   ],
   "source": [
    "df_tags1 = df_tags.withColumn(\"to_join\", F.concat(F.col(\"userId\"),F.lit(\" - \"),F.col(\"movieId\")))\n",
    "df_tags1 = df_tags1.select(\"tag\",\"to_join\")\n",
    "df_tags1.show(3)"
   ]
  },
  {
   "cell_type": "code",
   "execution_count": 10,
   "metadata": {
    "colab": {
     "base_uri": "https://localhost:8080/"
    },
    "id": "JgkRIOxNqQhL",
    "outputId": "5c8eb425-2aa0-4ff3-f2b6-c4b85e2dd2de"
   },
   "outputs": [
    {
     "name": "stdout",
     "output_type": "stream",
     "text": [
      "+------+-------+------+---------+\n",
      "|userId|movieId|rating|timestamp|\n",
      "+------+-------+------+---------+\n",
      "|     1|      1|   4.0|964982703|\n",
      "|     1|      3|   4.0|964981247|\n",
      "|     1|      6|   4.0|964982224|\n",
      "+------+-------+------+---------+\n",
      "only showing top 3 rows\n",
      "\n"
     ]
    }
   ],
   "source": [
    "df_ratings = spark.read. \\\n",
    "option(\"header\",\"True\"). \\\n",
    "option(\"inferSchema\",\"True\"). \\\n",
    "csv(\"ratings.csv\")\n",
    "df_ratings.show(3)"
   ]
  },
  {
   "cell_type": "code",
   "execution_count": 11,
   "metadata": {
    "colab": {
     "base_uri": "https://localhost:8080/"
    },
    "id": "EOsKe_PiqS7R",
    "outputId": "bb3b38af-5c66-4993-e672-78e80b1a7135"
   },
   "outputs": [
    {
     "name": "stdout",
     "output_type": "stream",
     "text": [
      "+-------+------+\n",
      "|to_join|rating|\n",
      "+-------+------+\n",
      "|  1 - 1|   4.0|\n",
      "|  1 - 3|   4.0|\n",
      "|  1 - 6|   4.0|\n",
      "+-------+------+\n",
      "only showing top 3 rows\n",
      "\n"
     ]
    }
   ],
   "source": [
    "df_ratings1 = df_ratings.withColumn(\"to_join\", F.concat(F.col(\"userId\"),F.lit(\" - \"),F.col(\"movieId\")))\n",
    "df_ratings1 = df_ratings1.select(\"to_join\",\"rating\")\n",
    "df_ratings1.show(3)"
   ]
  },
  {
   "cell_type": "code",
   "execution_count": 12,
   "metadata": {
    "colab": {
     "base_uri": "https://localhost:8080/"
    },
    "id": "sGQOD8O_qkcP",
    "outputId": "a4e925cb-3ded-45eb-f77e-bf54920e2fc2"
   },
   "outputs": [
    {
     "name": "stdout",
     "output_type": "stream",
     "text": [
      "+--------+----+------+\n",
      "| to_join| tag|rating|\n",
      "+--------+----+------+\n",
      "|   1 - 1|null|   4.0|\n",
      "|1 - 1009|null|   3.0|\n",
      "| 1 - 101|null|   5.0|\n",
      "|1 - 1023|null|   5.0|\n",
      "|1 - 1024|null|   5.0|\n",
      "+--------+----+------+\n",
      "only showing top 5 rows\n",
      "\n"
     ]
    }
   ],
   "source": [
    "joinedDF = df_tags1.join(df_ratings1,\"to_join\",\"outer\")\n",
    "joinedDF.show(5)"
   ]
  },
  {
   "cell_type": "code",
   "execution_count": 13,
   "metadata": {
    "colab": {
     "base_uri": "https://localhost:8080/"
    },
    "id": "6jlvhAuoqmqm",
    "outputId": "07a596f2-2d2a-44f0-a103-12784602251c"
   },
   "outputs": [
    {
     "name": "stdout",
     "output_type": "stream",
     "text": [
      "+------------+--------------------+------+\n",
      "|     to_join|                 tag|rating|\n",
      "+------------+--------------------+------+\n",
      "|   103 - 260|                EPIC|   4.0|\n",
      "|   103 - 260|    great soundtrack|   4.0|\n",
      "|   103 - 296|       good dialogue|   5.0|\n",
      "|   103 - 296|    great soundtrack|   5.0|\n",
      "|   103 - 296|          non-linear|   5.0|\n",
      "|106 - 106489|           adventure|   5.0|\n",
      "|  106 - 4896|Everything you wa...|   5.0|\n",
      "|   112 - 260|      classic sci-fi|   5.0|\n",
      "|   112 - 260|engrossing adventure|   5.0|\n",
      "|   112 - 260|                EPIC|   5.0|\n",
      "+------------+--------------------+------+\n",
      "only showing top 10 rows\n",
      "\n"
     ]
    }
   ],
   "source": [
    "joinedDF_no_null = joinedDF.na.drop()\n",
    "joinedDF_no_null.show(10)"
   ]
  },
  {
   "cell_type": "code",
   "execution_count": 17,
   "metadata": {
    "colab": {
     "base_uri": "https://localhost:8080/"
    },
    "id": "AE-WxTffqouN",
    "outputId": "2df00cb6-5655-438b-cb2c-6d843098b147"
   },
   "outputs": [
    {
     "name": "stdout",
     "output_type": "stream",
     "text": [
      "+--------------------+-----------+----------+\n",
      "|                 tag|avg(rating)|count(tag)|\n",
      "+--------------------+-----------+----------+\n",
      "|        great acting|        5.0|         3|\n",
      "|               drama|        5.0|         3|\n",
      "|          irreverent|        5.0|         3|\n",
      "|     highly quotable|        5.0|         3|\n",
      "|        space action|        5.0|         2|\n",
      "|        cult classic|        5.0|         2|\n",
      "|          very funny|        5.0|         2|\n",
      "|            morality|        5.0|         2|\n",
      "|         nick hornby|        5.0|         2|\n",
      "|      classic sci-fi|        5.0|         2|\n",
      "|          characters|        5.0|         2|\n",
      "|          surrealism|        5.0|         2|\n",
      "|         wall street|        5.0|         2|\n",
      "|psychological thr...|        5.0|         2|\n",
      "|      great dialogue|        5.0|         2|\n",
      "|           offensive|        5.0|         2|\n",
      "|         complicated|        5.0|         2|\n",
      "|           satirical|        5.0|         2|\n",
      "|    heroic bloodshed|        5.0|         2|\n",
      "|  great performances|        5.0|         2|\n",
      "|               twist|        5.0|         2|\n",
      "|     character study|        5.0|         2|\n",
      "|       original plot|        5.0|         2|\n",
      "|              brutal|        5.0|         2|\n",
      "|        intellectual|        5.0|         2|\n",
      "|             western|        5.0|         2|\n",
      "|        jeff bridges|        5.0|         2|\n",
      "|          missionary|        5.0|         2|\n",
      "|          non-linear|        5.0|         2|\n",
      "|              humour|        5.0|         2|\n",
      "+--------------------+-----------+----------+\n",
      "only showing top 30 rows\n",
      "\n"
     ]
    }
   ],
   "source": [
    "joinedDF_no_null = joinedDF_no_null.withColumn(\"tag\", F.lower(joinedDF_no_null[\"tag\"]))\n",
    "group_df = joinedDF_no_null.groupBy(\"tag\").agg(F.mean('rating'), F.count('tag'))\n",
    "sorted_df = group_df.sort(group_df[\"avg(rating)\"].desc(),group_df[\"count(tag)\"].desc())\n",
    "sorted_df.show(30)"
   ]
  },
  {
   "cell_type": "code",
   "execution_count": 18,
   "metadata": {
    "colab": {
     "base_uri": "https://localhost:8080/"
    },
    "id": "8dS-jFlcq4Co",
    "outputId": "8db1aee8-1225-4935-d082-7db8de0a015d"
   },
   "outputs": [
    {
     "name": "stdout",
     "output_type": "stream",
     "text": [
      "+-----------------+------------------+----------+\n",
      "|              tag|       avg(rating)|count(tag)|\n",
      "+-----------------+------------------+----------+\n",
      "|           satire| 4.708333333333333|        12|\n",
      "|         mindfuck| 4.666666666666667|        15|\n",
      "|     black comedy| 4.607142857142857|        14|\n",
      "|     twist ending|             4.525|        20|\n",
      "|     imdb top 250|               4.5|        11|\n",
      "|      dark comedy|              4.45|        20|\n",
      "|       psychology|             4.425|        20|\n",
      "|    psychological| 4.409090909090909|        11|\n",
      "|       disturbing| 4.384615384615385|        13|\n",
      "|             dark|             4.375|        16|\n",
      "|      atmospheric| 4.280487804878049|        41|\n",
      "|         suspense|             4.275|        20|\n",
      "|          surreal| 4.270833333333333|        24|\n",
      "|           quirky|4.2272727272727275|        22|\n",
      "|thought-provoking| 4.181818181818182|        22|\n",
      "|            anime| 4.166666666666667|        12|\n",
      "|           action| 4.142857142857143|        14|\n",
      "|            heist| 4.115384615384615|        13|\n",
      "|        dreamlike| 4.107142857142857|        14|\n",
      "|            music| 4.088235294117647|        17|\n",
      "+-----------------+------------------+----------+\n",
      "only showing top 20 rows\n",
      "\n"
     ]
    }
   ],
   "source": [
    "sorted_df.filter(sorted_df[\"count(tag)\"]>10).show(20)"
   ]
  },
  {
   "cell_type": "code",
   "execution_count": null,
   "metadata": {
    "id": "MbM9ASLTrFtV"
   },
   "outputs": [],
   "source": []
  }
 ],
 "metadata": {
  "colab": {
   "provenance": []
  },
  "kernelspec": {
   "display_name": "Python 3 (ipykernel)",
   "language": "python",
   "name": "python3"
  },
  "language_info": {
   "codemirror_mode": {
    "name": "ipython",
    "version": 3
   },
   "file_extension": ".py",
   "mimetype": "text/x-python",
   "name": "python",
   "nbconvert_exporter": "python",
   "pygments_lexer": "ipython3",
   "version": "3.9.12"
  }
 },
 "nbformat": 4,
 "nbformat_minor": 1
}
